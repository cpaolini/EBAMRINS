{
 "cells": [
  {
   "cell_type": "markdown",
   "metadata": {},
   "source": [
    "Plot a frequency distribution of refinement boxes"
   ]
  },
  {
   "cell_type": "code",
   "execution_count": 2,
   "metadata": {},
   "outputs": [
    {
     "name": "stderr",
     "output_type": "stream",
     "text": [
      "Matplotlib is building the font cache; this may take a moment.\n"
     ]
    }
   ],
   "source": [
    "import os\n",
    "import time\n",
    "from pathlib import Path\n",
    "import numpy as np\n",
    "import pickle\n",
    "import matplotlib.animation as manimation\n",
    "import matplotlib.patches as patches\n",
    "import matplotlib.pyplot as plt\n",
    "from matplotlib import cm, colors"
   ]
  },
  {
   "cell_type": "code",
   "execution_count": 8,
   "metadata": {},
   "outputs": [],
   "source": [
    "dir = r\"C:\\Users\\paoli\\Documents\\plot2d\""
   ]
  },
  {
   "cell_type": "code",
   "execution_count": 10,
   "metadata": {},
   "outputs": [
    {
     "name": "stdout",
     "output_type": "stream",
     "text": [
      "Box database dimensions: (30632, 8)\n"
     ]
    }
   ],
   "source": [
    "os.chdir(dir)\n",
    "objects = []\n",
    "# step  level time  j  i  w  h  dx \n",
    "# 0     1     2     3  4  5  6  7 \n",
    "with (open(\"patches.pkl\", \"rb\")) as openfile:\n",
    "    while True:\n",
    "        try:\n",
    "            objects.append(pickle.load(openfile))\n",
    "        except EOFError:\n",
    "            break\n",
    "a = objects[0]\n",
    "print(f\"Box database dimensions: {a.shape}\")"
   ]
  },
  {
   "cell_type": "code",
   "execution_count": null,
   "metadata": {},
   "outputs": [
    {
     "data": {
      "text/plain": [
       "[<matplotlib.lines.Line2D at 0x1fbe8986150>]"
      ]
     },
     "execution_count": 28,
     "metadata": {},
     "output_type": "execute_result"
    },
    {
     "data": {
      "image/png": "[encoded data removed]",
      "text/plain": [
       "<Figure size 640x480 with 1 Axes>"
      ]
     },
     "metadata": {},
     "output_type": "display_data"
    }
   ],
   "source": [
    "data0 = {}\n",
    "data1 = {}\n",
    "for box in range(a.shape[0]):\n",
    "    t = a[box,2].item()\n",
    "    if int(a[box,1]) == 1:   # level 1 box\n",
    "        if t in data1:\n",
    "            data1[t] += 1\n",
    "        else:\n",
    "            data1.update({t:1})\n",
    "    elif int(a[box,1]) == 0:   # level 0 box\n",
    "        if t in data0:\n",
    "            data0[t] += 1\n",
    "        else:\n",
    "            data0.update({t:1})\n",
    "plt.plot(data0.keys(), data0.values(), label=\"level 0\")\n",
    "plt.plot(data1.keys(), data1.values(), label=\"level 1\")\n",
    "plt.xlabel('time, s')\n",
    "plt.ylabel('Number of boxes')\n",
    "plt.title('Frequency of boxes v. Time')\n",
    "plt.legend()"
   ]
  }
 ],
 "metadata": {
  "kernelspec": {
   "display_name": "Python 3",
   "language": "python",
   "name": "python3"
  },
  "language_info": {
   "codemirror_mode": {
    "name": "ipython",
    "version": 3
   },
   "file_extension": ".py",
   "mimetype": "text/x-python",
   "name": "python",
   "nbconvert_exporter": "python",
   "pygments_lexer": "ipython3",
   "version": "3.12.6"
  }
 },
 "nbformat": 4,
 "nbformat_minor": 2
}
